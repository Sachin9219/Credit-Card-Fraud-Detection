{
 "cells": [
  {
   "cell_type": "code",
   "execution_count": 1,
   "metadata": {},
   "outputs": [],
   "source": [
    "import pandas as pd\n",
    "import numpy as np\n",
    "import matplotlib.pyplot as plt\n",
    "import seaborn as sns\n",
    "%matplotlib inline"
   ]
  },
  {
   "cell_type": "code",
   "execution_count": 2,
   "metadata": {},
   "outputs": [
    {
     "data": {
      "text/html": [
       "<div>\n",
       "<style scoped>\n",
       "    .dataframe tbody tr th:only-of-type {\n",
       "        vertical-align: middle;\n",
       "    }\n",
       "\n",
       "    .dataframe tbody tr th {\n",
       "        vertical-align: top;\n",
       "    }\n",
       "\n",
       "    .dataframe thead th {\n",
       "        text-align: right;\n",
       "    }\n",
       "</style>\n",
       "<table border=\"1\" class=\"dataframe\">\n",
       "  <thead>\n",
       "    <tr style=\"text-align: right;\">\n",
       "      <th></th>\n",
       "      <th>Customer ID</th>\n",
       "      <th>Credit_Amount</th>\n",
       "      <th>Gender</th>\n",
       "      <th>Academic_Qualification</th>\n",
       "      <th>Marital</th>\n",
       "      <th>Age_Years</th>\n",
       "      <th>Repayment_Status_Jan</th>\n",
       "      <th>Repayment_Status_Feb</th>\n",
       "      <th>Repayment_Status_March</th>\n",
       "      <th>Repayment_Status_April</th>\n",
       "      <th>...</th>\n",
       "      <th>April_Bill_Amount</th>\n",
       "      <th>May_Bill_Amount</th>\n",
       "      <th>June_Bill_Amount</th>\n",
       "      <th>Previous_Payment_Jan</th>\n",
       "      <th>Previous_Payment_Feb</th>\n",
       "      <th>Previous_Payment_March</th>\n",
       "      <th>Previous_Payment_April</th>\n",
       "      <th>Previous_Payment_May</th>\n",
       "      <th>Previous_Payment_June</th>\n",
       "      <th>Default_Payment</th>\n",
       "    </tr>\n",
       "  </thead>\n",
       "  <tbody>\n",
       "    <tr>\n",
       "      <th>0</th>\n",
       "      <td>1</td>\n",
       "      <td>20000.0</td>\n",
       "      <td>2</td>\n",
       "      <td>2</td>\n",
       "      <td>1</td>\n",
       "      <td>24</td>\n",
       "      <td>2</td>\n",
       "      <td>2</td>\n",
       "      <td>0</td>\n",
       "      <td>0</td>\n",
       "      <td>...</td>\n",
       "      <td>0.0</td>\n",
       "      <td>0.0</td>\n",
       "      <td>0.0</td>\n",
       "      <td>0.0</td>\n",
       "      <td>679.0</td>\n",
       "      <td>0.0</td>\n",
       "      <td>0.0</td>\n",
       "      <td>0.0</td>\n",
       "      <td>0.0</td>\n",
       "      <td>1</td>\n",
       "    </tr>\n",
       "    <tr>\n",
       "      <th>1</th>\n",
       "      <td>2</td>\n",
       "      <td>220000.0</td>\n",
       "      <td>2</td>\n",
       "      <td>2</td>\n",
       "      <td>2</td>\n",
       "      <td>26</td>\n",
       "      <td>0</td>\n",
       "      <td>2</td>\n",
       "      <td>0</td>\n",
       "      <td>0</td>\n",
       "      <td>...</td>\n",
       "      <td>3272.0</td>\n",
       "      <td>3455.0</td>\n",
       "      <td>3261.0</td>\n",
       "      <td>0.0</td>\n",
       "      <td>2000.0</td>\n",
       "      <td>1000.0</td>\n",
       "      <td>1000.0</td>\n",
       "      <td>0.0</td>\n",
       "      <td>2000.0</td>\n",
       "      <td>1</td>\n",
       "    </tr>\n",
       "    <tr>\n",
       "      <th>2</th>\n",
       "      <td>3</td>\n",
       "      <td>90000.0</td>\n",
       "      <td>2</td>\n",
       "      <td>2</td>\n",
       "      <td>2</td>\n",
       "      <td>34</td>\n",
       "      <td>0</td>\n",
       "      <td>0</td>\n",
       "      <td>0</td>\n",
       "      <td>0</td>\n",
       "      <td>...</td>\n",
       "      <td>24332.0</td>\n",
       "      <td>14848.0</td>\n",
       "      <td>15548.0</td>\n",
       "      <td>1619.0</td>\n",
       "      <td>2500.0</td>\n",
       "      <td>1000.0</td>\n",
       "      <td>1000.0</td>\n",
       "      <td>1000.0</td>\n",
       "      <td>5000.0</td>\n",
       "      <td>0</td>\n",
       "    </tr>\n",
       "    <tr>\n",
       "      <th>3</th>\n",
       "      <td>4</td>\n",
       "      <td>50000.0</td>\n",
       "      <td>2</td>\n",
       "      <td>2</td>\n",
       "      <td>1</td>\n",
       "      <td>37</td>\n",
       "      <td>0</td>\n",
       "      <td>0</td>\n",
       "      <td>0</td>\n",
       "      <td>0</td>\n",
       "      <td>...</td>\n",
       "      <td>29324.0</td>\n",
       "      <td>28858.0</td>\n",
       "      <td>28547.0</td>\n",
       "      <td>3000.0</td>\n",
       "      <td>2029.0</td>\n",
       "      <td>1200.0</td>\n",
       "      <td>1100.0</td>\n",
       "      <td>1069.0</td>\n",
       "      <td>1000.0</td>\n",
       "      <td>0</td>\n",
       "    </tr>\n",
       "    <tr>\n",
       "      <th>4</th>\n",
       "      <td>5</td>\n",
       "      <td>50000.0</td>\n",
       "      <td>1</td>\n",
       "      <td>2</td>\n",
       "      <td>1</td>\n",
       "      <td>57</td>\n",
       "      <td>0</td>\n",
       "      <td>0</td>\n",
       "      <td>0</td>\n",
       "      <td>0</td>\n",
       "      <td>...</td>\n",
       "      <td>20940.0</td>\n",
       "      <td>18146.0</td>\n",
       "      <td>18131.0</td>\n",
       "      <td>3000.0</td>\n",
       "      <td>36672.0</td>\n",
       "      <td>10000.0</td>\n",
       "      <td>9000.0</td>\n",
       "      <td>689.0</td>\n",
       "      <td>679.0</td>\n",
       "      <td>0</td>\n",
       "    </tr>\n",
       "  </tbody>\n",
       "</table>\n",
       "<p>5 rows × 25 columns</p>\n",
       "</div>"
      ],
      "text/plain": [
       "   Customer ID  Credit_Amount  Gender  Academic_Qualification  Marital  \\\n",
       "0            1        20000.0       2                       2        1   \n",
       "1            2       220000.0       2                       2        2   \n",
       "2            3        90000.0       2                       2        2   \n",
       "3            4        50000.0       2                       2        1   \n",
       "4            5        50000.0       1                       2        1   \n",
       "\n",
       "   Age_Years  Repayment_Status_Jan  Repayment_Status_Feb  \\\n",
       "0         24                     2                     2   \n",
       "1         26                     0                     2   \n",
       "2         34                     0                     0   \n",
       "3         37                     0                     0   \n",
       "4         57                     0                     0   \n",
       "\n",
       "   Repayment_Status_March  Repayment_Status_April  ...  April_Bill_Amount  \\\n",
       "0                       0                       0  ...                0.0   \n",
       "1                       0                       0  ...             3272.0   \n",
       "2                       0                       0  ...            24332.0   \n",
       "3                       0                       0  ...            29324.0   \n",
       "4                       0                       0  ...            20940.0   \n",
       "\n",
       "   May_Bill_Amount  June_Bill_Amount  Previous_Payment_Jan  \\\n",
       "0              0.0               0.0                   0.0   \n",
       "1           3455.0            3261.0                   0.0   \n",
       "2          14848.0           15548.0                1619.0   \n",
       "3          28858.0           28547.0                3000.0   \n",
       "4          18146.0           18131.0                3000.0   \n",
       "\n",
       "   Previous_Payment_Feb  Previous_Payment_March  Previous_Payment_April  \\\n",
       "0                 679.0                     0.0                     0.0   \n",
       "1                2000.0                  1000.0                  1000.0   \n",
       "2                2500.0                  1000.0                  1000.0   \n",
       "3                2029.0                  1200.0                  1100.0   \n",
       "4               36672.0                 10000.0                  9000.0   \n",
       "\n",
       "   Previous_Payment_May  Previous_Payment_June  Default_Payment  \n",
       "0                   0.0                    0.0                1  \n",
       "1                   0.0                 2000.0                1  \n",
       "2                1000.0                 5000.0                0  \n",
       "3                1069.0                 1000.0                0  \n",
       "4                 689.0                  679.0                0  \n",
       "\n",
       "[5 rows x 25 columns]"
      ]
     },
     "execution_count": 2,
     "metadata": {},
     "output_type": "execute_result"
    }
   ],
   "source": [
    "df = pd.read_csv('BankCreditCard.csv')\n",
    "df.head()"
   ]
  },
  {
   "cell_type": "code",
   "execution_count": 3,
   "metadata": {},
   "outputs": [
    {
     "name": "stdout",
     "output_type": "stream",
     "text": [
      "<class 'pandas.core.frame.DataFrame'>\n",
      "RangeIndex: 30000 entries, 0 to 29999\n",
      "Data columns (total 25 columns):\n",
      " #   Column                  Non-Null Count  Dtype  \n",
      "---  ------                  --------------  -----  \n",
      " 0   Customer ID             30000 non-null  int64  \n",
      " 1   Credit_Amount           30000 non-null  float64\n",
      " 2   Gender                  30000 non-null  int64  \n",
      " 3   Academic_Qualification  30000 non-null  int64  \n",
      " 4   Marital                 30000 non-null  int64  \n",
      " 5   Age_Years               30000 non-null  int64  \n",
      " 6   Repayment_Status_Jan    30000 non-null  int64  \n",
      " 7   Repayment_Status_Feb    30000 non-null  int64  \n",
      " 8   Repayment_Status_March  30000 non-null  int64  \n",
      " 9   Repayment_Status_April  30000 non-null  int64  \n",
      " 10  Repayment_Status_May    30000 non-null  int64  \n",
      " 11  Repayment_Status_June   30000 non-null  int64  \n",
      " 12  Jan_Bill_Amount         30000 non-null  float64\n",
      " 13  Feb_Bill_Amount         30000 non-null  float64\n",
      " 14  March_Bill_Amount       30000 non-null  float64\n",
      " 15  April_Bill_Amount       30000 non-null  float64\n",
      " 16  May_Bill_Amount         30000 non-null  float64\n",
      " 17  June_Bill_Amount        30000 non-null  float64\n",
      " 18  Previous_Payment_Jan    30000 non-null  float64\n",
      " 19  Previous_Payment_Feb    30000 non-null  float64\n",
      " 20  Previous_Payment_March  30000 non-null  float64\n",
      " 21  Previous_Payment_April  30000 non-null  float64\n",
      " 22  Previous_Payment_May    30000 non-null  float64\n",
      " 23  Previous_Payment_June   30000 non-null  float64\n",
      " 24  Default_Payment         30000 non-null  int64  \n",
      "dtypes: float64(13), int64(12)\n",
      "memory usage: 5.7 MB\n"
     ]
    }
   ],
   "source": [
    "df.info()"
   ]
  },
  {
   "cell_type": "markdown",
   "metadata": {},
   "source": [
    "## Exploratory Data Analysis"
   ]
  },
  {
   "cell_type": "markdown",
   "metadata": {},
   "source": [
    "Looking at the info of the data above, we immediately notice we do not need \"Customer ID\" column.  \n",
    "Hence we will remove this column from the df."
   ]
  },
  {
   "cell_type": "code",
   "execution_count": 4,
   "metadata": {},
   "outputs": [
    {
     "data": {
      "text/plain": [
       "(30000, 24)"
      ]
     },
     "execution_count": 4,
     "metadata": {},
     "output_type": "execute_result"
    }
   ],
   "source": [
    "df = df.drop(\"Customer ID\", axis = 1)\n",
    "df.shape"
   ]
  },
  {
   "cell_type": "markdown",
   "metadata": {},
   "source": [
    "Secondly, we notice that it would make more sense to add common information columns together.  \n",
    "That is, add Repayment Status from Jan to June and call it Repayment Status Total.  \n",
    "Add Bill Amount from Jan to June and call it Bill Amount Total.  \n",
    "Add Previous Payment from Jan to June and call it Previous Payment Total."
   ]
  },
  {
   "cell_type": "markdown",
   "metadata": {},
   "source": [
    "Below are 3 methods for adding the values of multiple columns."
   ]
  },
  {
   "cell_type": "code",
   "execution_count": 5,
   "metadata": {},
   "outputs": [],
   "source": [
    "# Method 1.\n",
    "df[\"Repayment_Status_Total\"] = df[\"Repayment_Status_Jan\"]+df[\"Repayment_Status_Feb\"]+df[\"Repayment_Status_March\"]+df[\"Repayment_Status_April\"]+df[\"Repayment_Status_May\"]+df[\"Repayment_Status_June\"]"
   ]
  },
  {
   "cell_type": "markdown",
   "metadata": {},
   "source": [
    "Method 2 for adding multiple columns."
   ]
  },
  {
   "cell_type": "code",
   "execution_count": 6,
   "metadata": {},
   "outputs": [],
   "source": [
    "# Method 2\n",
    "df[\"Bill_Amount_Total\"] = df.iloc[:, 11:17].sum(axis=1)"
   ]
  },
  {
   "cell_type": "markdown",
   "metadata": {},
   "source": [
    "Method 3 for adding multiple columns."
   ]
  },
  {
   "cell_type": "code",
   "execution_count": 7,
   "metadata": {},
   "outputs": [],
   "source": [
    "# Method 3\n",
    "Previous_Payment_Total = ['Previous_Payment_Jan',\n",
    "                          'Previous_Payment_Feb',\n",
    "                          'Previous_Payment_March',\n",
    "                          'Previous_Payment_April',\n",
    "                          'Previous_Payment_May',\n",
    "                          'Previous_Payment_June']\n",
    "df[\"Previous_Payment_Total\"] = df[Previous_Payment_Total].sum(axis=1)"
   ]
  },
  {
   "cell_type": "code",
   "execution_count": 8,
   "metadata": {},
   "outputs": [
    {
     "name": "stdout",
     "output_type": "stream",
     "text": [
      "<class 'pandas.core.frame.DataFrame'>\n",
      "RangeIndex: 30000 entries, 0 to 29999\n",
      "Data columns (total 27 columns):\n",
      " #   Column                  Non-Null Count  Dtype  \n",
      "---  ------                  --------------  -----  \n",
      " 0   Credit_Amount           30000 non-null  float64\n",
      " 1   Gender                  30000 non-null  int64  \n",
      " 2   Academic_Qualification  30000 non-null  int64  \n",
      " 3   Marital                 30000 non-null  int64  \n",
      " 4   Age_Years               30000 non-null  int64  \n",
      " 5   Repayment_Status_Jan    30000 non-null  int64  \n",
      " 6   Repayment_Status_Feb    30000 non-null  int64  \n",
      " 7   Repayment_Status_March  30000 non-null  int64  \n",
      " 8   Repayment_Status_April  30000 non-null  int64  \n",
      " 9   Repayment_Status_May    30000 non-null  int64  \n",
      " 10  Repayment_Status_June   30000 non-null  int64  \n",
      " 11  Jan_Bill_Amount         30000 non-null  float64\n",
      " 12  Feb_Bill_Amount         30000 non-null  float64\n",
      " 13  March_Bill_Amount       30000 non-null  float64\n",
      " 14  April_Bill_Amount       30000 non-null  float64\n",
      " 15  May_Bill_Amount         30000 non-null  float64\n",
      " 16  June_Bill_Amount        30000 non-null  float64\n",
      " 17  Previous_Payment_Jan    30000 non-null  float64\n",
      " 18  Previous_Payment_Feb    30000 non-null  float64\n",
      " 19  Previous_Payment_March  30000 non-null  float64\n",
      " 20  Previous_Payment_April  30000 non-null  float64\n",
      " 21  Previous_Payment_May    30000 non-null  float64\n",
      " 22  Previous_Payment_June   30000 non-null  float64\n",
      " 23  Default_Payment         30000 non-null  int64  \n",
      " 24  Repayment_Status_Total  30000 non-null  int64  \n",
      " 25  Bill_Amount_Total       30000 non-null  float64\n",
      " 26  Previous_Payment_Total  30000 non-null  float64\n",
      "dtypes: float64(15), int64(12)\n",
      "memory usage: 6.2 MB\n"
     ]
    }
   ],
   "source": [
    "df.info()"
   ]
  },
  {
   "cell_type": "markdown",
   "metadata": {},
   "source": [
    "Now, we can remove the original columns."
   ]
  },
  {
   "cell_type": "code",
   "execution_count": 9,
   "metadata": {},
   "outputs": [],
   "source": [
    "df.drop(df.iloc[:, 5:23], inplace = True, axis = 1) "
   ]
  },
  {
   "cell_type": "code",
   "execution_count": 10,
   "metadata": {},
   "outputs": [
    {
     "name": "stdout",
     "output_type": "stream",
     "text": [
      "<class 'pandas.core.frame.DataFrame'>\n",
      "RangeIndex: 30000 entries, 0 to 29999\n",
      "Data columns (total 9 columns):\n",
      " #   Column                  Non-Null Count  Dtype  \n",
      "---  ------                  --------------  -----  \n",
      " 0   Credit_Amount           30000 non-null  float64\n",
      " 1   Gender                  30000 non-null  int64  \n",
      " 2   Academic_Qualification  30000 non-null  int64  \n",
      " 3   Marital                 30000 non-null  int64  \n",
      " 4   Age_Years               30000 non-null  int64  \n",
      " 5   Default_Payment         30000 non-null  int64  \n",
      " 6   Repayment_Status_Total  30000 non-null  int64  \n",
      " 7   Bill_Amount_Total       30000 non-null  float64\n",
      " 8   Previous_Payment_Total  30000 non-null  float64\n",
      "dtypes: float64(3), int64(6)\n",
      "memory usage: 2.1 MB\n"
     ]
    }
   ],
   "source": [
    "df.info()"
   ]
  },
  {
   "cell_type": "code",
   "execution_count": 11,
   "metadata": {
    "scrolled": true
   },
   "outputs": [
    {
     "data": {
      "text/html": [
       "<div>\n",
       "<style scoped>\n",
       "    .dataframe tbody tr th:only-of-type {\n",
       "        vertical-align: middle;\n",
       "    }\n",
       "\n",
       "    .dataframe tbody tr th {\n",
       "        vertical-align: top;\n",
       "    }\n",
       "\n",
       "    .dataframe thead th {\n",
       "        text-align: right;\n",
       "    }\n",
       "</style>\n",
       "<table border=\"1\" class=\"dataframe\">\n",
       "  <thead>\n",
       "    <tr style=\"text-align: right;\">\n",
       "      <th></th>\n",
       "      <th>Credit_Amount</th>\n",
       "      <th>Gender</th>\n",
       "      <th>Academic_Qualification</th>\n",
       "      <th>Marital</th>\n",
       "      <th>Age_Years</th>\n",
       "      <th>Default_Payment</th>\n",
       "      <th>Repayment_Status_Total</th>\n",
       "      <th>Bill_Amount_Total</th>\n",
       "      <th>Previous_Payment_Total</th>\n",
       "    </tr>\n",
       "  </thead>\n",
       "  <tbody>\n",
       "    <tr>\n",
       "      <th>count</th>\n",
       "      <td>30000.0</td>\n",
       "      <td>30000.0</td>\n",
       "      <td>30000.0</td>\n",
       "      <td>30000.0</td>\n",
       "      <td>30000.0</td>\n",
       "      <td>30000.0</td>\n",
       "      <td>30000.0</td>\n",
       "      <td>30000.0</td>\n",
       "      <td>30000.0</td>\n",
       "    </tr>\n",
       "    <tr>\n",
       "      <th>mean</th>\n",
       "      <td>192917.0</td>\n",
       "      <td>2.0</td>\n",
       "      <td>2.0</td>\n",
       "      <td>2.0</td>\n",
       "      <td>35.0</td>\n",
       "      <td>0.0</td>\n",
       "      <td>2.0</td>\n",
       "      <td>326670.0</td>\n",
       "      <td>35193.0</td>\n",
       "    </tr>\n",
       "    <tr>\n",
       "      <th>std</th>\n",
       "      <td>132289.0</td>\n",
       "      <td>0.0</td>\n",
       "      <td>1.0</td>\n",
       "      <td>1.0</td>\n",
       "      <td>9.0</td>\n",
       "      <td>0.0</td>\n",
       "      <td>4.0</td>\n",
       "      <td>460365.0</td>\n",
       "      <td>72639.0</td>\n",
       "    </tr>\n",
       "    <tr>\n",
       "      <th>min</th>\n",
       "      <td>20000.0</td>\n",
       "      <td>1.0</td>\n",
       "      <td>1.0</td>\n",
       "      <td>0.0</td>\n",
       "      <td>21.0</td>\n",
       "      <td>0.0</td>\n",
       "      <td>0.0</td>\n",
       "      <td>-335168.0</td>\n",
       "      <td>0.0</td>\n",
       "    </tr>\n",
       "    <tr>\n",
       "      <th>25%</th>\n",
       "      <td>50000.0</td>\n",
       "      <td>1.0</td>\n",
       "      <td>1.0</td>\n",
       "      <td>1.0</td>\n",
       "      <td>28.0</td>\n",
       "      <td>0.0</td>\n",
       "      <td>0.0</td>\n",
       "      <td>34128.0</td>\n",
       "      <td>7600.0</td>\n",
       "    </tr>\n",
       "    <tr>\n",
       "      <th>50%</th>\n",
       "      <td>220000.0</td>\n",
       "      <td>2.0</td>\n",
       "      <td>2.0</td>\n",
       "      <td>2.0</td>\n",
       "      <td>34.0</td>\n",
       "      <td>0.0</td>\n",
       "      <td>0.0</td>\n",
       "      <td>150710.0</td>\n",
       "      <td>16031.0</td>\n",
       "    </tr>\n",
       "    <tr>\n",
       "      <th>75%</th>\n",
       "      <td>270000.0</td>\n",
       "      <td>2.0</td>\n",
       "      <td>2.0</td>\n",
       "      <td>2.0</td>\n",
       "      <td>41.0</td>\n",
       "      <td>0.0</td>\n",
       "      <td>2.0</td>\n",
       "      <td>353753.0</td>\n",
       "      <td>36411.0</td>\n",
       "    </tr>\n",
       "    <tr>\n",
       "      <th>max</th>\n",
       "      <td>2000000.0</td>\n",
       "      <td>2.0</td>\n",
       "      <td>6.0</td>\n",
       "      <td>3.0</td>\n",
       "      <td>79.0</td>\n",
       "      <td>1.0</td>\n",
       "      <td>30.0</td>\n",
       "      <td>5064815.0</td>\n",
       "      <td>4904190.0</td>\n",
       "    </tr>\n",
       "  </tbody>\n",
       "</table>\n",
       "</div>"
      ],
      "text/plain": [
       "       Credit_Amount   Gender  Academic_Qualification  Marital  Age_Years  \\\n",
       "count        30000.0  30000.0                 30000.0  30000.0    30000.0   \n",
       "mean        192917.0      2.0                     2.0      2.0       35.0   \n",
       "std         132289.0      0.0                     1.0      1.0        9.0   \n",
       "min          20000.0      1.0                     1.0      0.0       21.0   \n",
       "25%          50000.0      1.0                     1.0      1.0       28.0   \n",
       "50%         220000.0      2.0                     2.0      2.0       34.0   \n",
       "75%         270000.0      2.0                     2.0      2.0       41.0   \n",
       "max        2000000.0      2.0                     6.0      3.0       79.0   \n",
       "\n",
       "       Default_Payment  Repayment_Status_Total  Bill_Amount_Total  \\\n",
       "count          30000.0                 30000.0            30000.0   \n",
       "mean               0.0                     2.0           326670.0   \n",
       "std                0.0                     4.0           460365.0   \n",
       "min                0.0                     0.0          -335168.0   \n",
       "25%                0.0                     0.0            34128.0   \n",
       "50%                0.0                     0.0           150710.0   \n",
       "75%                0.0                     2.0           353753.0   \n",
       "max                1.0                    30.0          5064815.0   \n",
       "\n",
       "       Previous_Payment_Total  \n",
       "count                 30000.0  \n",
       "mean                  35193.0  \n",
       "std                   72639.0  \n",
       "min                       0.0  \n",
       "25%                    7600.0  \n",
       "50%                   16031.0  \n",
       "75%                   36411.0  \n",
       "max                 4904190.0  "
      ]
     },
     "execution_count": 11,
     "metadata": {},
     "output_type": "execute_result"
    }
   ],
   "source": [
    "df.describe().round()"
   ]
  },
  {
   "cell_type": "markdown",
   "metadata": {},
   "source": [
    "As can be seen above, the range of Credit_Amount, Bill_Amount and Previous_Payment is significantly higher than the other variables."
   ]
  },
  {
   "cell_type": "code",
   "execution_count": 12,
   "metadata": {},
   "outputs": [],
   "source": [
    "df[\"Credit_Amount_mn\"] = df.Credit_Amount/100000\n",
    "df[\"Bill_Amount_mn\"] = df.Bill_Amount_Total/100000\n",
    "df[\"Previous_Payment_mn\"] = df.Previous_Payment_Total/100000"
   ]
  },
  {
   "cell_type": "code",
   "execution_count": 13,
   "metadata": {},
   "outputs": [
    {
     "data": {
      "text/html": [
       "<div>\n",
       "<style scoped>\n",
       "    .dataframe tbody tr th:only-of-type {\n",
       "        vertical-align: middle;\n",
       "    }\n",
       "\n",
       "    .dataframe tbody tr th {\n",
       "        vertical-align: top;\n",
       "    }\n",
       "\n",
       "    .dataframe thead th {\n",
       "        text-align: right;\n",
       "    }\n",
       "</style>\n",
       "<table border=\"1\" class=\"dataframe\">\n",
       "  <thead>\n",
       "    <tr style=\"text-align: right;\">\n",
       "      <th></th>\n",
       "      <th>Credit_Amount</th>\n",
       "      <th>Gender</th>\n",
       "      <th>Academic_Qualification</th>\n",
       "      <th>Marital</th>\n",
       "      <th>Age_Years</th>\n",
       "      <th>Default_Payment</th>\n",
       "      <th>Repayment_Status_Total</th>\n",
       "      <th>Bill_Amount_Total</th>\n",
       "      <th>Previous_Payment_Total</th>\n",
       "      <th>Credit_Amount_mn</th>\n",
       "      <th>Bill_Amount_mn</th>\n",
       "      <th>Previous_Payment_mn</th>\n",
       "    </tr>\n",
       "  </thead>\n",
       "  <tbody>\n",
       "    <tr>\n",
       "      <th>count</th>\n",
       "      <td>30000.0</td>\n",
       "      <td>30000.0</td>\n",
       "      <td>30000.0</td>\n",
       "      <td>30000.0</td>\n",
       "      <td>30000.0</td>\n",
       "      <td>30000.0</td>\n",
       "      <td>30000.0</td>\n",
       "      <td>30000.0</td>\n",
       "      <td>30000.0</td>\n",
       "      <td>30000.0</td>\n",
       "      <td>30000.0</td>\n",
       "      <td>30000.0</td>\n",
       "    </tr>\n",
       "    <tr>\n",
       "      <th>mean</th>\n",
       "      <td>192917.0</td>\n",
       "      <td>2.0</td>\n",
       "      <td>2.0</td>\n",
       "      <td>2.0</td>\n",
       "      <td>35.0</td>\n",
       "      <td>0.0</td>\n",
       "      <td>2.0</td>\n",
       "      <td>326670.0</td>\n",
       "      <td>35193.0</td>\n",
       "      <td>2.0</td>\n",
       "      <td>3.0</td>\n",
       "      <td>0.0</td>\n",
       "    </tr>\n",
       "    <tr>\n",
       "      <th>std</th>\n",
       "      <td>132289.0</td>\n",
       "      <td>0.0</td>\n",
       "      <td>1.0</td>\n",
       "      <td>1.0</td>\n",
       "      <td>9.0</td>\n",
       "      <td>0.0</td>\n",
       "      <td>4.0</td>\n",
       "      <td>460365.0</td>\n",
       "      <td>72639.0</td>\n",
       "      <td>1.0</td>\n",
       "      <td>5.0</td>\n",
       "      <td>1.0</td>\n",
       "    </tr>\n",
       "    <tr>\n",
       "      <th>min</th>\n",
       "      <td>20000.0</td>\n",
       "      <td>1.0</td>\n",
       "      <td>1.0</td>\n",
       "      <td>0.0</td>\n",
       "      <td>21.0</td>\n",
       "      <td>0.0</td>\n",
       "      <td>0.0</td>\n",
       "      <td>-335168.0</td>\n",
       "      <td>0.0</td>\n",
       "      <td>0.0</td>\n",
       "      <td>-3.0</td>\n",
       "      <td>0.0</td>\n",
       "    </tr>\n",
       "    <tr>\n",
       "      <th>25%</th>\n",
       "      <td>50000.0</td>\n",
       "      <td>1.0</td>\n",
       "      <td>1.0</td>\n",
       "      <td>1.0</td>\n",
       "      <td>28.0</td>\n",
       "      <td>0.0</td>\n",
       "      <td>0.0</td>\n",
       "      <td>34128.0</td>\n",
       "      <td>7600.0</td>\n",
       "      <td>0.0</td>\n",
       "      <td>0.0</td>\n",
       "      <td>0.0</td>\n",
       "    </tr>\n",
       "    <tr>\n",
       "      <th>50%</th>\n",
       "      <td>220000.0</td>\n",
       "      <td>2.0</td>\n",
       "      <td>2.0</td>\n",
       "      <td>2.0</td>\n",
       "      <td>34.0</td>\n",
       "      <td>0.0</td>\n",
       "      <td>0.0</td>\n",
       "      <td>150710.0</td>\n",
       "      <td>16031.0</td>\n",
       "      <td>2.0</td>\n",
       "      <td>2.0</td>\n",
       "      <td>0.0</td>\n",
       "    </tr>\n",
       "    <tr>\n",
       "      <th>75%</th>\n",
       "      <td>270000.0</td>\n",
       "      <td>2.0</td>\n",
       "      <td>2.0</td>\n",
       "      <td>2.0</td>\n",
       "      <td>41.0</td>\n",
       "      <td>0.0</td>\n",
       "      <td>2.0</td>\n",
       "      <td>353753.0</td>\n",
       "      <td>36411.0</td>\n",
       "      <td>3.0</td>\n",
       "      <td>4.0</td>\n",
       "      <td>0.0</td>\n",
       "    </tr>\n",
       "    <tr>\n",
       "      <th>max</th>\n",
       "      <td>2000000.0</td>\n",
       "      <td>2.0</td>\n",
       "      <td>6.0</td>\n",
       "      <td>3.0</td>\n",
       "      <td>79.0</td>\n",
       "      <td>1.0</td>\n",
       "      <td>30.0</td>\n",
       "      <td>5064815.0</td>\n",
       "      <td>4904190.0</td>\n",
       "      <td>20.0</td>\n",
       "      <td>51.0</td>\n",
       "      <td>49.0</td>\n",
       "    </tr>\n",
       "  </tbody>\n",
       "</table>\n",
       "</div>"
      ],
      "text/plain": [
       "       Credit_Amount   Gender  Academic_Qualification  Marital  Age_Years  \\\n",
       "count        30000.0  30000.0                 30000.0  30000.0    30000.0   \n",
       "mean        192917.0      2.0                     2.0      2.0       35.0   \n",
       "std         132289.0      0.0                     1.0      1.0        9.0   \n",
       "min          20000.0      1.0                     1.0      0.0       21.0   \n",
       "25%          50000.0      1.0                     1.0      1.0       28.0   \n",
       "50%         220000.0      2.0                     2.0      2.0       34.0   \n",
       "75%         270000.0      2.0                     2.0      2.0       41.0   \n",
       "max        2000000.0      2.0                     6.0      3.0       79.0   \n",
       "\n",
       "       Default_Payment  Repayment_Status_Total  Bill_Amount_Total  \\\n",
       "count          30000.0                 30000.0            30000.0   \n",
       "mean               0.0                     2.0           326670.0   \n",
       "std                0.0                     4.0           460365.0   \n",
       "min                0.0                     0.0          -335168.0   \n",
       "25%                0.0                     0.0            34128.0   \n",
       "50%                0.0                     0.0           150710.0   \n",
       "75%                0.0                     2.0           353753.0   \n",
       "max                1.0                    30.0          5064815.0   \n",
       "\n",
       "       Previous_Payment_Total  Credit_Amount_mn  Bill_Amount_mn  \\\n",
       "count                 30000.0           30000.0         30000.0   \n",
       "mean                  35193.0               2.0             3.0   \n",
       "std                   72639.0               1.0             5.0   \n",
       "min                       0.0               0.0            -3.0   \n",
       "25%                    7600.0               0.0             0.0   \n",
       "50%                   16031.0               2.0             2.0   \n",
       "75%                   36411.0               3.0             4.0   \n",
       "max                 4904190.0              20.0            51.0   \n",
       "\n",
       "       Previous_Payment_mn  \n",
       "count              30000.0  \n",
       "mean                   0.0  \n",
       "std                    1.0  \n",
       "min                    0.0  \n",
       "25%                    0.0  \n",
       "50%                    0.0  \n",
       "75%                    0.0  \n",
       "max                   49.0  "
      ]
     },
     "execution_count": 13,
     "metadata": {},
     "output_type": "execute_result"
    }
   ],
   "source": [
    "df.describe().round()"
   ]
  },
  {
   "cell_type": "code",
   "execution_count": 14,
   "metadata": {},
   "outputs": [],
   "source": [
    "cols = [\"Credit_Amount\",\"Bill_Amount_Total\",\"Previous_Payment_Total\"]\n",
    "df.drop(cols, axis=1, inplace = True)"
   ]
  },
  {
   "cell_type": "code",
   "execution_count": 15,
   "metadata": {},
   "outputs": [
    {
     "data": {
      "text/html": [
       "<div>\n",
       "<style scoped>\n",
       "    .dataframe tbody tr th:only-of-type {\n",
       "        vertical-align: middle;\n",
       "    }\n",
       "\n",
       "    .dataframe tbody tr th {\n",
       "        vertical-align: top;\n",
       "    }\n",
       "\n",
       "    .dataframe thead th {\n",
       "        text-align: right;\n",
       "    }\n",
       "</style>\n",
       "<table border=\"1\" class=\"dataframe\">\n",
       "  <thead>\n",
       "    <tr style=\"text-align: right;\">\n",
       "      <th></th>\n",
       "      <th>Gender</th>\n",
       "      <th>Academic_Qualification</th>\n",
       "      <th>Marital</th>\n",
       "      <th>Age_Years</th>\n",
       "      <th>Default_Payment</th>\n",
       "      <th>Repayment_Status_Total</th>\n",
       "      <th>Credit_Amount_mn</th>\n",
       "      <th>Bill_Amount_mn</th>\n",
       "      <th>Previous_Payment_mn</th>\n",
       "    </tr>\n",
       "  </thead>\n",
       "  <tbody>\n",
       "    <tr>\n",
       "      <th>0</th>\n",
       "      <td>2</td>\n",
       "      <td>2</td>\n",
       "      <td>1</td>\n",
       "      <td>24</td>\n",
       "      <td>1</td>\n",
       "      <td>4</td>\n",
       "      <td>0.2</td>\n",
       "      <td>0.07725</td>\n",
       "      <td>0.00679</td>\n",
       "    </tr>\n",
       "    <tr>\n",
       "      <th>1</th>\n",
       "      <td>2</td>\n",
       "      <td>2</td>\n",
       "      <td>2</td>\n",
       "      <td>26</td>\n",
       "      <td>1</td>\n",
       "      <td>4</td>\n",
       "      <td>2.2</td>\n",
       "      <td>0.18088</td>\n",
       "      <td>0.06000</td>\n",
       "    </tr>\n",
       "    <tr>\n",
       "      <th>2</th>\n",
       "      <td>2</td>\n",
       "      <td>2</td>\n",
       "      <td>2</td>\n",
       "      <td>34</td>\n",
       "      <td>0</td>\n",
       "      <td>0</td>\n",
       "      <td>0.9</td>\n",
       "      <td>1.31663</td>\n",
       "      <td>0.12119</td>\n",
       "    </tr>\n",
       "    <tr>\n",
       "      <th>3</th>\n",
       "      <td>2</td>\n",
       "      <td>2</td>\n",
       "      <td>1</td>\n",
       "      <td>37</td>\n",
       "      <td>0</td>\n",
       "      <td>0</td>\n",
       "      <td>0.5</td>\n",
       "      <td>2.31344</td>\n",
       "      <td>0.09398</td>\n",
       "    </tr>\n",
       "    <tr>\n",
       "      <th>4</th>\n",
       "      <td>1</td>\n",
       "      <td>2</td>\n",
       "      <td>1</td>\n",
       "      <td>57</td>\n",
       "      <td>0</td>\n",
       "      <td>0</td>\n",
       "      <td>0.5</td>\n",
       "      <td>1.07259</td>\n",
       "      <td>0.60040</td>\n",
       "    </tr>\n",
       "  </tbody>\n",
       "</table>\n",
       "</div>"
      ],
      "text/plain": [
       "   Gender  Academic_Qualification  Marital  Age_Years  Default_Payment  \\\n",
       "0       2                       2        1         24                1   \n",
       "1       2                       2        2         26                1   \n",
       "2       2                       2        2         34                0   \n",
       "3       2                       2        1         37                0   \n",
       "4       1                       2        1         57                0   \n",
       "\n",
       "   Repayment_Status_Total  Credit_Amount_mn  Bill_Amount_mn  \\\n",
       "0                       4               0.2         0.07725   \n",
       "1                       4               2.2         0.18088   \n",
       "2                       0               0.9         1.31663   \n",
       "3                       0               0.5         2.31344   \n",
       "4                       0               0.5         1.07259   \n",
       "\n",
       "   Previous_Payment_mn  \n",
       "0              0.00679  \n",
       "1              0.06000  \n",
       "2              0.12119  \n",
       "3              0.09398  \n",
       "4              0.60040  "
      ]
     },
     "execution_count": 15,
     "metadata": {},
     "output_type": "execute_result"
    }
   ],
   "source": [
    "df.head()"
   ]
  },
  {
   "cell_type": "code",
   "execution_count": 16,
   "metadata": {},
   "outputs": [],
   "source": [
    "df.Default_Payment = df.Default_Payment.astype(str)"
   ]
  },
  {
   "cell_type": "code",
   "execution_count": 17,
   "metadata": {},
   "outputs": [],
   "source": [
    "df.Default_Payment.replace({\"1\":\"Yes\",\"0\":\"No\"}, inplace=True)"
   ]
  },
  {
   "cell_type": "markdown",
   "metadata": {},
   "source": [
    "## Exploratory Data Analysis"
   ]
  },
  {
   "cell_type": "code",
   "execution_count": 18,
   "metadata": {},
   "outputs": [
    {
     "data": {
      "text/plain": [
       "<AxesSubplot:xlabel='Credit_Amount_mn', ylabel='Credit_Amount_mn'>"
      ]
     },
     "execution_count": 18,
     "metadata": {},
     "output_type": "execute_result"
    },
    {
     "data": {
      "image/png": "[encoded data removed]",
      "text/plain": [
       "<Figure size 432x288 with 1 Axes>"
      ]
     },
     "metadata": {
      "needs_background": "light"
     },
     "output_type": "display_data"
    }
   ],
   "source": [
    "sns.scatterplot(data=df, x=df.Credit_Amount_mn, y=df.Credit_Amount_mn, hue=df.Default_Payment)"
   ]
  },
  {
   "cell_type": "markdown",
   "metadata": {},
   "source": [
    "We notice an immediate pattern that Default Payment persists when Credit Amout is high."
   ]
  },
  {
   "cell_type": "code",
   "execution_count": 19,
   "metadata": {},
   "outputs": [
    {
     "data": {
      "text/plain": [
       "<AxesSubplot:xlabel='Bill_Amount_mn', ylabel='Bill_Amount_mn'>"
      ]
     },
     "execution_count": 19,
     "metadata": {},
     "output_type": "execute_result"
    },
    {
     "data": {
      "image/png": "[encoded data removed]",
      "text/plain": [
       "<Figure size 432x288 with 1 Axes>"
      ]
     },
     "metadata": {
      "needs_background": "light"
     },
     "output_type": "display_data"
    }
   ],
   "source": [
    "sns.scatterplot(data=df, x=df.Bill_Amount_mn, y=df.Bill_Amount_mn, hue=df.Default_Payment)"
   ]
  },
  {
   "cell_type": "code",
   "execution_count": 20,
   "metadata": {},
   "outputs": [
    {
     "data": {
      "text/plain": [
       "<AxesSubplot:xlabel='Previous_Payment_mn', ylabel='Previous_Payment_mn'>"
      ]
     },
     "execution_count": 20,
     "metadata": {},
     "output_type": "execute_result"
    },
    {
     "data": {
      "image/png": "[encoded data removed]",
      "text/plain": [
       "<Figure size 432x288 with 1 Axes>"
      ]
     },
     "metadata": {
      "needs_background": "light"
     },
     "output_type": "display_data"
    }
   ],
   "source": [
    "sns.scatterplot(data=df, x=df.Previous_Payment_mn, y=df.Previous_Payment_mn, hue=df.Default_Payment)"
   ]
  },
  {
   "cell_type": "code",
   "execution_count": 21,
   "metadata": {},
   "outputs": [
    {
     "data": {
      "text/plain": [
       "<AxesSubplot:xlabel='Age_Years', ylabel='Age_Years'>"
      ]
     },
     "execution_count": 21,
     "metadata": {},
     "output_type": "execute_result"
    },
    {
     "data": {
      "image/png": "[encoded data removed]",
      "text/plain": [
       "<Figure size 432x288 with 1 Axes>"
      ]
     },
     "metadata": {
      "needs_background": "light"
     },
     "output_type": "display_data"
    }
   ],
   "source": [
    "sns.scatterplot(data=df, x=df.Age_Years, y=df.Age_Years, hue = df.Default_Payment)"
   ]
  },
  {
   "cell_type": "code",
   "execution_count": 22,
   "metadata": {},
   "outputs": [],
   "source": [
    "df.Gender = df.Gender.astype(str)"
   ]
  },
  {
   "cell_type": "code",
   "execution_count": 23,
   "metadata": {},
   "outputs": [],
   "source": [
    "df[\"Gender\"].replace({\"1\": \"Male\", \"2\": \"Female\"}, inplace=True)"
   ]
  },
  {
   "cell_type": "code",
   "execution_count": 24,
   "metadata": {},
   "outputs": [
    {
     "data": {
      "text/plain": [
       "<AxesSubplot:xlabel='Gender', ylabel='count'>"
      ]
     },
     "execution_count": 24,
     "metadata": {},
     "output_type": "execute_result"
    },
    {
     "data": {
      "image/png": "[encoded data removed]",
      "text/plain": [
       "<Figure size 432x288 with 1 Axes>"
      ]
     },
     "metadata": {
      "needs_background": "light"
     },
     "output_type": "display_data"
    }
   ],
   "source": [
    "sns.countplot(data=df, x=df.Gender, hue = df.Default_Payment, dodge = False)"
   ]
  },
  {
   "cell_type": "markdown",
   "metadata": {},
   "source": [
    "From the above plot, we see a large number of female defaulters as compared to male."
   ]
  },
  {
   "cell_type": "markdown",
   "metadata": {},
   "source": [
    "Given in the data description Academic_Qualification:\t\n",
    "    1.Undergraduate,   \n",
    "    2.Graduate,   \n",
    "    3.Postgraduate,   \n",
    "    4.Professional,   \n",
    "    5.Others,   \n",
    "    6.Unknown\t\t\t\t\t\t\t\t  \n",
    "We will convert the int dataype to object and replace these values."
   ]
  },
  {
   "cell_type": "code",
   "execution_count": 25,
   "metadata": {},
   "outputs": [],
   "source": [
    "df.Academic_Qualification = df.Academic_Qualification.astype(str)"
   ]
  },
  {
   "cell_type": "code",
   "execution_count": 26,
   "metadata": {},
   "outputs": [],
   "source": [
    "df.Academic_Qualification.replace({\"1\":\"UG\",\"2\":\"G\",\"3\":\"PG\",\"4\":\"P\",\"5\":\"Others\",\"6\":\"U\"}, inplace=True)"
   ]
  },
  {
   "cell_type": "code",
   "execution_count": 27,
   "metadata": {},
   "outputs": [
    {
     "data": {
      "text/plain": [
       "G         14030\n",
       "UG        10585\n",
       "PG         4917\n",
       "Others      280\n",
       "P           123\n",
       "U            65\n",
       "Name: Academic_Qualification, dtype: int64"
      ]
     },
     "execution_count": 27,
     "metadata": {},
     "output_type": "execute_result"
    }
   ],
   "source": [
    "df.Academic_Qualification.value_counts()"
   ]
  },
  {
   "cell_type": "code",
   "execution_count": 28,
   "metadata": {},
   "outputs": [
    {
     "data": {
      "text/plain": [
       "<AxesSubplot:xlabel='Academic_Qualification', ylabel='count'>"
      ]
     },
     "execution_count": 28,
     "metadata": {},
     "output_type": "execute_result"
    },
    {
     "data": {
      "image/png": "[encoded data removed]",
      "text/plain": [
       "<Figure size 432x288 with 1 Axes>"
      ]
     },
     "metadata": {
      "needs_background": "light"
     },
     "output_type": "display_data"
    }
   ],
   "source": [
    "sns.countplot(data=df, x=df.Academic_Qualification, hue = df.Default_Payment)"
   ]
  },
  {
   "cell_type": "markdown",
   "metadata": {},
   "source": [
    "From the above plot, we see that default seems to increase with decrease in academic qualification."
   ]
  },
  {
   "cell_type": "code",
   "execution_count": 29,
   "metadata": {},
   "outputs": [],
   "source": [
    "df.Marital = df.Marital.astype(str)"
   ]
  },
  {
   "cell_type": "code",
   "execution_count": 30,
   "metadata": {},
   "outputs": [],
   "source": [
    "df.Marital.replace({\"1\":\"M\",\"2\":\"S\",\"3\":\"O\"}, inplace=True)"
   ]
  },
  {
   "cell_type": "code",
   "execution_count": 31,
   "metadata": {},
   "outputs": [
    {
     "data": {
      "text/plain": [
       "S    15964\n",
       "M    13659\n",
       "O      323\n",
       "0       54\n",
       "Name: Marital, dtype: int64"
      ]
     },
     "execution_count": 31,
     "metadata": {},
     "output_type": "execute_result"
    }
   ],
   "source": [
    "df.Marital.value_counts()"
   ]
  },
  {
   "cell_type": "markdown",
   "metadata": {},
   "source": [
    "We need to remove the rows with observation as 0."
   ]
  },
  {
   "cell_type": "code",
   "execution_count": 32,
   "metadata": {},
   "outputs": [],
   "source": [
    "df.drop(df.loc[df['Marital']==\"0\"].index, inplace=True)"
   ]
  },
  {
   "cell_type": "code",
   "execution_count": 33,
   "metadata": {},
   "outputs": [
    {
     "data": {
      "text/plain": [
       "<AxesSubplot:xlabel='Marital', ylabel='count'>"
      ]
     },
     "execution_count": 33,
     "metadata": {},
     "output_type": "execute_result"
    },
    {
     "data": {
      "image/png": "[encoded data removed]",
      "text/plain": [
       "<Figure size 432x288 with 1 Axes>"
      ]
     },
     "metadata": {
      "needs_background": "light"
     },
     "output_type": "display_data"
    }
   ],
   "source": [
    "sns.countplot(data=df, x=df.Marital, hue=df.Default_Payment)"
   ]
  },
  {
   "cell_type": "code",
   "execution_count": 34,
   "metadata": {},
   "outputs": [
    {
     "data": {
      "text/plain": [
       "<seaborn.axisgrid.FacetGrid at 0x20a3ca32548>"
      ]
     },
     "execution_count": 34,
     "metadata": {},
     "output_type": "execute_result"
    },
    {
     "data": {
      "image/png": "[encoded data removed]",
      "text/plain": [
       "<Figure size 360x360 with 1 Axes>"
      ]
     },
     "metadata": {
      "needs_background": "light"
     },
     "output_type": "display_data"
    }
   ],
   "source": [
    "sns.displot(df, x=df.Credit_Amount_mn, bins=15, kde=False)"
   ]
  },
  {
   "cell_type": "code",
   "execution_count": 35,
   "metadata": {},
   "outputs": [
    {
     "data": {
      "text/plain": [
       "<AxesSubplot:xlabel='Default_Payment', ylabel='Credit_Amount_mn'>"
      ]
     },
     "execution_count": 35,
     "metadata": {},
     "output_type": "execute_result"
    },
    {
     "data": {
      "image/png": "[encoded data removed]",
      "text/plain": [
       "<Figure size 432x288 with 1 Axes>"
      ]
     },
     "metadata": {
      "needs_background": "light"
     },
     "output_type": "display_data"
    }
   ],
   "source": [
    "sns.barplot(data=df, x=df.Default_Payment, y=df.Credit_Amount_mn)"
   ]
  },
  {
   "cell_type": "code",
   "execution_count": 36,
   "metadata": {},
   "outputs": [
    {
     "data": {
      "text/plain": [
       "<seaborn.axisgrid.FacetGrid at 0x20a3c7adb88>"
      ]
     },
     "execution_count": 36,
     "metadata": {},
     "output_type": "execute_result"
    },
    {
     "data": {
      "image/png": "[encoded data removed]",
      "text/plain": [
       "<Figure size 453.25x360 with 1 Axes>"
      ]
     },
     "metadata": {
      "needs_background": "light"
     },
     "output_type": "display_data"
    }
   ],
   "source": [
    "sns.displot(df, x=\"Credit_Amount_mn\", hue=\"Default_Payment\", bins = 10)"
   ]
  },
  {
   "cell_type": "code",
   "execution_count": 37,
   "metadata": {},
   "outputs": [
    {
     "data": {
      "text/plain": [
       "<AxesSubplot:>"
      ]
     },
     "execution_count": 37,
     "metadata": {},
     "output_type": "execute_result"
    },
    {
     "data": {
      "image/png": "[encoded data removed]",
      "text/plain": [
       "<Figure size 432x288 with 2 Axes>"
      ]
     },
     "metadata": {
      "needs_background": "light"
     },
     "output_type": "display_data"
    }
   ],
   "source": [
    "sns.heatmap(df.corr(),annot=True)"
   ]
  },
  {
   "cell_type": "markdown",
   "metadata": {},
   "source": [
    "  "
   ]
  },
  {
   "cell_type": "markdown",
   "metadata": {},
   "source": [
    "# Machine Learning Modelling"
   ]
  },
  {
   "cell_type": "code",
   "execution_count": 38,
   "metadata": {},
   "outputs": [
    {
     "name": "stdout",
     "output_type": "stream",
     "text": [
      "<class 'pandas.core.frame.DataFrame'>\n",
      "Int64Index: 29946 entries, 0 to 29999\n",
      "Data columns (total 9 columns):\n",
      " #   Column                  Non-Null Count  Dtype  \n",
      "---  ------                  --------------  -----  \n",
      " 0   Gender                  29946 non-null  object \n",
      " 1   Academic_Qualification  29946 non-null  object \n",
      " 2   Marital                 29946 non-null  object \n",
      " 3   Age_Years               29946 non-null  int64  \n",
      " 4   Default_Payment         29946 non-null  object \n",
      " 5   Repayment_Status_Total  29946 non-null  int64  \n",
      " 6   Credit_Amount_mn        29946 non-null  float64\n",
      " 7   Bill_Amount_mn          29946 non-null  float64\n",
      " 8   Previous_Payment_mn     29946 non-null  float64\n",
      "dtypes: float64(3), int64(2), object(4)\n",
      "memory usage: 3.3+ MB\n"
     ]
    }
   ],
   "source": [
    "df.info()"
   ]
  },
  {
   "cell_type": "markdown",
   "metadata": {},
   "source": [
    "Split input and target variables"
   ]
  },
  {
   "cell_type": "code",
   "execution_count": 39,
   "metadata": {},
   "outputs": [],
   "source": [
    "X = df.drop(\"Default_Payment\", axis=1)"
   ]
  },
  {
   "cell_type": "code",
   "execution_count": 40,
   "metadata": {},
   "outputs": [
    {
     "data": {
      "text/html": [
       "<div>\n",
       "<style scoped>\n",
       "    .dataframe tbody tr th:only-of-type {\n",
       "        vertical-align: middle;\n",
       "    }\n",
       "\n",
       "    .dataframe tbody tr th {\n",
       "        vertical-align: top;\n",
       "    }\n",
       "\n",
       "    .dataframe thead th {\n",
       "        text-align: right;\n",
       "    }\n",
       "</style>\n",
       "<table border=\"1\" class=\"dataframe\">\n",
       "  <thead>\n",
       "    <tr style=\"text-align: right;\">\n",
       "      <th></th>\n",
       "      <th>Gender</th>\n",
       "      <th>Academic_Qualification</th>\n",
       "      <th>Marital</th>\n",
       "      <th>Age_Years</th>\n",
       "      <th>Repayment_Status_Total</th>\n",
       "      <th>Credit_Amount_mn</th>\n",
       "      <th>Bill_Amount_mn</th>\n",
       "      <th>Previous_Payment_mn</th>\n",
       "    </tr>\n",
       "  </thead>\n",
       "  <tbody>\n",
       "    <tr>\n",
       "      <th>29995</th>\n",
       "      <td>Male</td>\n",
       "      <td>PG</td>\n",
       "      <td>M</td>\n",
       "      <td>39</td>\n",
       "      <td>0</td>\n",
       "      <td>2.2</td>\n",
       "      <td>9.27249</td>\n",
       "      <td>0.43652</td>\n",
       "    </tr>\n",
       "    <tr>\n",
       "      <th>29996</th>\n",
       "      <td>Male</td>\n",
       "      <td>PG</td>\n",
       "      <td>S</td>\n",
       "      <td>43</td>\n",
       "      <td>0</td>\n",
       "      <td>2.5</td>\n",
       "      <td>0.24182</td>\n",
       "      <td>0.15601</td>\n",
       "    </tr>\n",
       "    <tr>\n",
       "      <th>29997</th>\n",
       "      <td>Male</td>\n",
       "      <td>G</td>\n",
       "      <td>S</td>\n",
       "      <td>37</td>\n",
       "      <td>9</td>\n",
       "      <td>0.3</td>\n",
       "      <td>0.69596</td>\n",
       "      <td>0.32400</td>\n",
       "    </tr>\n",
       "    <tr>\n",
       "      <th>29998</th>\n",
       "      <td>Male</td>\n",
       "      <td>PG</td>\n",
       "      <td>M</td>\n",
       "      <td>41</td>\n",
       "      <td>1</td>\n",
       "      <td>0.8</td>\n",
       "      <td>2.64510</td>\n",
       "      <td>1.59192</td>\n",
       "    </tr>\n",
       "    <tr>\n",
       "      <th>29999</th>\n",
       "      <td>Male</td>\n",
       "      <td>G</td>\n",
       "      <td>M</td>\n",
       "      <td>46</td>\n",
       "      <td>0</td>\n",
       "      <td>0.5</td>\n",
       "      <td>2.30784</td>\n",
       "      <td>0.10329</td>\n",
       "    </tr>\n",
       "  </tbody>\n",
       "</table>\n",
       "</div>"
      ],
      "text/plain": [
       "      Gender Academic_Qualification Marital  Age_Years  \\\n",
       "29995   Male                     PG       M         39   \n",
       "29996   Male                     PG       S         43   \n",
       "29997   Male                      G       S         37   \n",
       "29998   Male                     PG       M         41   \n",
       "29999   Male                      G       M         46   \n",
       "\n",
       "       Repayment_Status_Total  Credit_Amount_mn  Bill_Amount_mn  \\\n",
       "29995                       0               2.2         9.27249   \n",
       "29996                       0               2.5         0.24182   \n",
       "29997                       9               0.3         0.69596   \n",
       "29998                       1               0.8         2.64510   \n",
       "29999                       0               0.5         2.30784   \n",
       "\n",
       "       Previous_Payment_mn  \n",
       "29995              0.43652  \n",
       "29996              0.15601  \n",
       "29997              0.32400  \n",
       "29998              1.59192  \n",
       "29999              0.10329  "
      ]
     },
     "execution_count": 40,
     "metadata": {},
     "output_type": "execute_result"
    }
   ],
   "source": [
    "X.tail()"
   ]
  },
  {
   "cell_type": "code",
   "execution_count": 41,
   "metadata": {},
   "outputs": [],
   "source": [
    "X = pd.get_dummies(X, drop_first=True)"
   ]
  },
  {
   "cell_type": "code",
   "execution_count": 42,
   "metadata": {},
   "outputs": [],
   "source": [
    "y=df.Default_Payment"
   ]
  },
  {
   "cell_type": "markdown",
   "metadata": {},
   "source": [
    "## Model Building"
   ]
  },
  {
   "cell_type": "markdown",
   "metadata": {},
   "source": [
    "#### Train Test Split"
   ]
  },
  {
   "cell_type": "code",
   "execution_count": 43,
   "metadata": {},
   "outputs": [],
   "source": [
    "from sklearn.model_selection import train_test_split\n",
    "x_train, x_test, y_train, y_test = train_test_split(X,y,test_size=0.3, random_state=0)"
   ]
  },
  {
   "cell_type": "markdown",
   "metadata": {},
   "source": [
    "#### Logistic Regression"
   ]
  },
  {
   "cell_type": "code",
   "execution_count": 44,
   "metadata": {},
   "outputs": [
    {
     "data": {
      "text/plain": [
       "LogisticRegression(max_iter=1000)"
      ]
     },
     "execution_count": 44,
     "metadata": {},
     "output_type": "execute_result"
    }
   ],
   "source": [
    "from sklearn.linear_model import LogisticRegression\n",
    "log_model = LogisticRegression(max_iter=1000)\n",
    "log_model.fit(x_train,y_train)"
   ]
  },
  {
   "cell_type": "code",
   "execution_count": 45,
   "metadata": {},
   "outputs": [],
   "source": [
    "log_pred = log_model.predict(x_test)"
   ]
  },
  {
   "cell_type": "code",
   "execution_count": 46,
   "metadata": {},
   "outputs": [
    {
     "data": {
      "text/plain": [
       "array([[6788,  240],\n",
       "       [1478,  478]], dtype=int64)"
      ]
     },
     "execution_count": 46,
     "metadata": {},
     "output_type": "execute_result"
    }
   ],
   "source": [
    "from sklearn.metrics import confusion_matrix, accuracy_score\n",
    "confusion_matrix(y_test,log_pred)"
   ]
  },
  {
   "cell_type": "code",
   "execution_count": 47,
   "metadata": {},
   "outputs": [
    {
     "data": {
      "text/plain": [
       "0.8087711487088157"
      ]
     },
     "execution_count": 47,
     "metadata": {},
     "output_type": "execute_result"
    }
   ],
   "source": [
    "accuracy_score(y_test,log_pred)"
   ]
  },
  {
   "cell_type": "markdown",
   "metadata": {},
   "source": [
    "#### DecisionTree Classifier"
   ]
  },
  {
   "cell_type": "code",
   "execution_count": 48,
   "metadata": {},
   "outputs": [
    {
     "data": {
      "text/plain": [
       "DecisionTreeClassifier()"
      ]
     },
     "execution_count": 48,
     "metadata": {},
     "output_type": "execute_result"
    }
   ],
   "source": [
    "from sklearn.tree import DecisionTreeClassifier\n",
    "dtree = DecisionTreeClassifier()\n",
    "dtree.fit(x_train, y_train)"
   ]
  },
  {
   "cell_type": "code",
   "execution_count": 49,
   "metadata": {},
   "outputs": [],
   "source": [
    "dtree_pred = dtree.predict(x_test)"
   ]
  },
  {
   "cell_type": "code",
   "execution_count": 50,
   "metadata": {},
   "outputs": [
    {
     "data": {
      "text/plain": [
       "array([[5654, 1185],\n",
       "       [1374,  771]], dtype=int64)"
      ]
     },
     "execution_count": 50,
     "metadata": {},
     "output_type": "execute_result"
    }
   ],
   "source": [
    "confusion_matrix(dtree_pred, y_test)"
   ]
  },
  {
   "cell_type": "code",
   "execution_count": 51,
   "metadata": {},
   "outputs": [
    {
     "data": {
      "text/plain": [
       "0.715160284951024"
      ]
     },
     "execution_count": 51,
     "metadata": {},
     "output_type": "execute_result"
    }
   ],
   "source": [
    "accuracy_score(dtree_pred, y_test)"
   ]
  },
  {
   "cell_type": "markdown",
   "metadata": {},
   "source": [
    "#### Random Forest Classifier"
   ]
  },
  {
   "cell_type": "code",
   "execution_count": 56,
   "metadata": {},
   "outputs": [
    {
     "data": {
      "text/plain": [
       "RandomForestClassifier(n_estimators=200)"
      ]
     },
     "execution_count": 56,
     "metadata": {},
     "output_type": "execute_result"
    }
   ],
   "source": [
    "from sklearn.ensemble import RandomForestClassifier\n",
    "rfc = RandomForestClassifier(n_estimators=200)\n",
    "rfc.fit(x_train,y_train)"
   ]
  },
  {
   "cell_type": "code",
   "execution_count": 57,
   "metadata": {},
   "outputs": [],
   "source": [
    "rfc_pred = rfc.predict(x_test)"
   ]
  },
  {
   "cell_type": "code",
   "execution_count": 58,
   "metadata": {},
   "outputs": [
    {
     "data": {
      "text/plain": [
       "array([[6573, 1306],\n",
       "       [ 455,  650]], dtype=int64)"
      ]
     },
     "execution_count": 58,
     "metadata": {},
     "output_type": "execute_result"
    }
   ],
   "source": [
    "confusion_matrix(rfc_pred, y_test)"
   ]
  },
  {
   "cell_type": "code",
   "execution_count": 59,
   "metadata": {},
   "outputs": [
    {
     "data": {
      "text/plain": [
       "0.8039848619768477"
      ]
     },
     "execution_count": 59,
     "metadata": {},
     "output_type": "execute_result"
    }
   ],
   "source": [
    "accuracy_score(rfc_pred, y_test)"
   ]
  },
  {
   "cell_type": "markdown",
   "metadata": {},
   "source": [
    "From this exercise, we conclude that logistic regression model is the best fit for predicting this dataset."
   ]
  },
  {
   "cell_type": "code",
   "execution_count": null,
   "metadata": {},
   "outputs": [],
   "source": []
  }
 ],
 "metadata": {
  "kernelspec": {
   "display_name": "Python 3",
   "language": "python",
   "name": "python3"
  },
  "language_info": {
   "codemirror_mode": {
    "name": "ipython",
    "version": 3
   },
   "file_extension": ".py",
   "mimetype": "text/x-python",
   "name": "python",
   "nbconvert_exporter": "python",
   "pygments_lexer": "ipython3",
   "version": "3.7.9"
  }
 },
 "nbformat": 4,
 "nbformat_minor": 4
}
